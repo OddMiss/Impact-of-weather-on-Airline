{
 "cells": [
  {
   "cell_type": "code",
   "execution_count": 50,
   "metadata": {},
   "outputs": [],
   "source": [
    "import csv\n",
    "import json\n",
    "import os\n",
    "from tqdm import tqdm\n",
    "import pandas as pd"
   ]
  },
  {
   "cell_type": "code",
   "execution_count": 44,
   "metadata": {},
   "outputs": [],
   "source": [
    "# Read JSON data from a file\n",
    "dir_out = 'D:/OneDrive/Jupyter_Cloud/Machine_learning/Big Data/Airline-Analysis/4.19-5.19SZX进出港/出港/'\n",
    "dir_in = 'D:/OneDrive/Jupyter_Cloud/Machine_learning/Big Data/Airline-Analysis/4.19-5.19SZX进出港/进港/'\n",
    "name_out = os.listdir(dir_out)\n",
    "name_in = os.listdir(dir_in)\n",
    "\n",
    "# Filter out only the .txt files\n",
    "name_out = [file_name for file_name in name_out if file_name.endswith('.txt')]\n",
    "name_in = [file_name for file_name in name_in if file_name.endswith('.txt')]"
   ]
  },
  {
   "cell_type": "code",
   "execution_count": 45,
   "metadata": {},
   "outputs": [],
   "source": [
    "# Define the column names\n",
    "column_names = [\n",
    "    \"flightDate\",\n",
    "    \"flightNo\",\n",
    "    \"regNo\",\n",
    "    \"status\",\n",
    "    \"destAirportName\",\n",
    "    \"ptd\",\n",
    "    \"atd\",\n",
    "    \"depDelayTime\",\n",
    "    \"depTerminal\",\n",
    "    \"gate\",\n",
    "    \"eta\",\n",
    "]"
   ]
  },
  {
   "cell_type": "code",
   "execution_count": 46,
   "metadata": {},
   "outputs": [],
   "source": [
    "def json_to_csv(dir_name, file_name_list):\n",
    "    for filename in tqdm(file_name_list, desc=\"Processing\", ncols=100):\n",
    "        with open(dir_name + filename, 'r') as file:\n",
    "            str_data = file.read()\n",
    "\n",
    "        # Parse JSON data\n",
    "        Airline = json.loads(str_data)\n",
    "        \n",
    "        # Write date to CSV\n",
    "        csv_name = filename.replace(\".txt\", \".csv\")\n",
    "        with open(dir_name + csv_name, mode='w', newline='') as file:\n",
    "            writer = csv.writer(file)\n",
    "            \n",
    "            # Write header row\n",
    "            writer.writerow(column_names)\n",
    "            \n",
    "            # Write data rows\n",
    "            for item in Airline['presp']['pdata']['fidsList']:\n",
    "                for fids_item in item['fidsBeanList']:\n",
    "                    row = [fids_item.get(key, '') for key in column_names]\n",
    "                    writer.writerow(row)"
   ]
  },
  {
   "cell_type": "code",
   "execution_count": 47,
   "metadata": {},
   "outputs": [
    {
     "name": "stderr",
     "output_type": "stream",
     "text": [
      "Processing:   0%|                                                            | 0/31 [00:00<?, ?it/s]"
     ]
    },
    {
     "name": "stderr",
     "output_type": "stream",
     "text": [
      "Processing: 100%|███████████████████████████████████████████████████| 31/31 [00:00<00:00, 93.63it/s]\n"
     ]
    }
   ],
   "source": [
    "json_to_csv(dir_out, name_out)"
   ]
  },
  {
   "cell_type": "code",
   "execution_count": 48,
   "metadata": {},
   "outputs": [
    {
     "name": "stderr",
     "output_type": "stream",
     "text": [
      "Processing: 100%|██████████████████████████████████████████████████| 31/31 [00:00<00:00, 120.15it/s]\n"
     ]
    }
   ],
   "source": [
    "json_to_csv(dir_in, name_in)"
   ]
  },
  {
   "cell_type": "code",
   "execution_count": 64,
   "metadata": {},
   "outputs": [
    {
     "data": {
      "text/html": [
       "<div>\n",
       "<style scoped>\n",
       "    .dataframe tbody tr th:only-of-type {\n",
       "        vertical-align: middle;\n",
       "    }\n",
       "\n",
       "    .dataframe tbody tr th {\n",
       "        vertical-align: top;\n",
       "    }\n",
       "\n",
       "    .dataframe thead th {\n",
       "        text-align: right;\n",
       "    }\n",
       "</style>\n",
       "<table border=\"1\" class=\"dataframe\">\n",
       "  <thead>\n",
       "    <tr style=\"text-align: right;\">\n",
       "      <th></th>\n",
       "      <th>flightDate</th>\n",
       "      <th>flightNo</th>\n",
       "      <th>regNo</th>\n",
       "      <th>status</th>\n",
       "      <th>destAirportName</th>\n",
       "      <th>ptd</th>\n",
       "      <th>atd</th>\n",
       "      <th>depDelayTime</th>\n",
       "      <th>depTerminal</th>\n",
       "      <th>gate</th>\n",
       "      <th>eta</th>\n",
       "    </tr>\n",
       "  </thead>\n",
       "  <tbody>\n",
       "    <tr>\n",
       "      <th>0</th>\n",
       "      <td>2024-05-20</td>\n",
       "      <td>ZH9005</td>\n",
       "      <td>B6855</td>\n",
       "      <td>到达</td>\n",
       "      <td>曼谷素万那普国际</td>\n",
       "      <td>00:10</td>\n",
       "      <td>00:28</td>\n",
       "      <td>延误18</td>\n",
       "      <td>T3</td>\n",
       "      <td>7</td>\n",
       "      <td>01:55</td>\n",
       "    </tr>\n",
       "    <tr>\n",
       "      <th>1</th>\n",
       "      <td>2024-05-20</td>\n",
       "      <td>CA3735</td>\n",
       "      <td>B6855</td>\n",
       "      <td>到达</td>\n",
       "      <td>曼谷素万那普国际</td>\n",
       "      <td>00:10</td>\n",
       "      <td>00:28</td>\n",
       "      <td>延误18</td>\n",
       "      <td>T3</td>\n",
       "      <td>7</td>\n",
       "      <td>01:55</td>\n",
       "    </tr>\n",
       "  </tbody>\n",
       "</table>\n",
       "</div>"
      ],
      "text/plain": [
       "   flightDate flightNo  regNo status destAirportName    ptd    atd  \\\n",
       "0  2024-05-20   ZH9005  B6855     到达        曼谷素万那普国际  00:10  00:28   \n",
       "1  2024-05-20   CA3735  B6855     到达        曼谷素万那普国际  00:10  00:28   \n",
       "\n",
       "  depDelayTime depTerminal gate    eta  \n",
       "0         延误18          T3    7  01:55  \n",
       "1         延误18          T3    7  01:55  "
      ]
     },
     "execution_count": 64,
     "metadata": {},
     "output_type": "execute_result"
    }
   ],
   "source": [
    "# Load the JSON data\n",
    "with open('2088_copy.txt', 'r', encoding='utf-8') as file:\n",
    "    data = json.load(file)\n",
    "\n",
    "# Flatten the nested JSON into a DataFrame\n",
    "df = pd.json_normalize(data['presp']['pdata']['fidsList'][0]['fidsBeanList'], sep='_')\n",
    "\n",
    "# Rename the columns according to the provided list\n",
    "df = df[column_names]\n",
    "# Save the DataFrame to a CSV file\n",
    "# df.to_csv('output.csv', index=False)\n",
    "df"
   ]
  }
 ],
 "metadata": {
  "kernelspec": {
   "display_name": "base",
   "language": "python",
   "name": "python3"
  },
  "language_info": {
   "codemirror_mode": {
    "name": "ipython",
    "version": 3
   },
   "file_extension": ".py",
   "mimetype": "text/x-python",
   "name": "python",
   "nbconvert_exporter": "python",
   "pygments_lexer": "ipython3",
   "version": "3.11.6"
  }
 },
 "nbformat": 4,
 "nbformat_minor": 2
}
